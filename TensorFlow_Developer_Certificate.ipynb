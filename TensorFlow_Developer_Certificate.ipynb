{
  "nbformat": 4,
  "nbformat_minor": 0,
  "metadata": {
    "colab": {
      "provenance": [],
      "toc_visible": true,
      "authorship_tag": "ABX9TyMd0sRvKwI7Oke/jyVplmD9",
      "include_colab_link": true
    },
    "kernelspec": {
      "name": "python3",
      "display_name": "Python 3"
    },
    "language_info": {
      "name": "python"
    }
  },
  "cells": [
    {
      "cell_type": "markdown",
      "metadata": {
        "id": "view-in-github",
        "colab_type": "text"
      },
      "source": [
        "<a href=\"https://colab.research.google.com/github/wirelessjava2002/tensorflow-certification/blob/main/TensorFlow_Developer_Certificate.ipynb\" target=\"_parent\"><img src=\"https://colab.research.google.com/assets/colab-badge.svg\" alt=\"Open In Colab\"/></a>"
      ]
    },
    {
      "cell_type": "code",
      "execution_count": null,
      "metadata": {
        "id": "3Kzx5Y9Fpq9S"
      },
      "outputs": [],
      "source": []
    },
    {
      "cell_type": "markdown",
      "source": [
        "#Skills checklist\n",
        "The TensorFlow Developer Certificate exam will test you on these set of skills.\n",
        "\n",
        "##(1) TensorFlow developer skills\n",
        "You need to demonstrate that you understand how to develop software programs using TensorFlow and\n",
        "that you can find the information you need to work as an ML practitioner. You need to:\n",
        "*  Know how to program in Python, resolve Python issues, and compile and run Python programs\n",
        "in PyCharm.\n",
        "*  Know how to find information about TensorFlow APIs, including how to find guides and API\n",
        "references on tensorflow.org.\n",
        "*  Know how to debug, investigate, and solve error messages from the TensorFlow API.\n",
        "*  Know how to search beyond tensorflow.org, as and when necessary, to solve your TensorFlow\n",
        "questions.\n",
        "*  Know how to create ML models using TensorFlow where the model size is reasonable for the\n",
        "problem being solved.\n",
        "*  Know how to save ML models and check the model file size.\n",
        "*  Understand the compatibility discrepancies between different versions of TensorFlow.\n",
        "\n",
        "##(2) Building and training neural network models using TensorFlow 2.x\n",
        "You need to understand the foundational principles of machine learning (ML) and deep learning (DL)\n",
        "using TensorFlow 2.x. You need to know how to:\n",
        "*  Use TensorFlow 2.x.\n",
        "*  Build, compile and train machine learning (ML) models using TensorFlow.\n",
        "*  Preprocess data to get it ready for use in a model.\n",
        "*  Use models to predict results.\n",
        "*  Build sequential models with multiple layers.\n",
        "TensorFlow Certificate Candidate Handbook 2\n",
        "*  Build and train models for binary classification.\n",
        "*  Build and train models for multi-class categorization.\n",
        "*  Plot loss and accuracy of a trained model.\n",
        "*  Identify strategies to prevent overfitting, including augmentation and dropout.\n",
        "*  Use pretrained models (transfer learning).\n",
        "*  Extract features from pre-trained models.\n",
        "*  Ensure that inputs to a model are in the correct shape.\n",
        "*  Ensure that you can match test data to the input shape of a neural network.\n",
        "*  Ensure you can match output data of a neural network to specified input shape for test data.\n",
        "*  Understand batch loading of data.\n",
        "*  Use callbacks to trigger the end of training cycles.\n",
        "*  Use datasets from different sources.\n",
        "*   Use datasets in different formats, including json and csv.\n",
        "*   Use datasets from tf.data.datasets.\n",
        "\n",
        "##(3) Image classification\n",
        "You need to understand how to build image recognition and object detection models with deep neural\n",
        "networks and convolutional neural networks using TensorFlow 2.x. You need to know how to:\n",
        "*   Define Convolutional neural networks with Conv2D and pooling layers.\n",
        "*   Build and train models to process real-world image datasets.\n",
        "*   Understand how to use convolutions to improve your neural network.\n",
        "*   Use real-world images in different shapes and sizes..\n",
        "*   Use image augmentation to prevent overfitting.\n",
        "*   Use ImageDataGenerator.\n",
        "*   Understand how ImageDataGenerator labels images based on the directory structure.\n",
        "\n",
        "##(4) Natural language processing (NLP)\n",
        "You need to understand how to use neural networks to solve natural language processing problems\n",
        "using TensorFlow. You need to know how to:\n",
        "*   Build natural language processing systems using TensorFlow.\n",
        "*   Prepare text to use in TensorFlow models.\n",
        "*   Build models that identify the category of a piece of text using binary categorization\n",
        "*   Build models that identify the category of a piece of text using multi-class categorization\n",
        "TensorFlow Certificate Candidate Handbook 3\n",
        "*   Use word embeddings in your TensorFlow model.\n",
        "*   Use LSTMs in your model to classify text for either binary or multi-class categorization.\n",
        "*   Add RNN and GRU layers to your model.\n",
        "*   Use RNNS, LSTMs, GRUs and CNNs in models that work with text.\n",
        "*   Train LSTMs on existing text to generate text (such as songs and poetry)\n",
        "\n",
        "##(5) Time series, sequences and predictions\n",
        "You need to understand how to solve time series and forecasting problems in TensorFlow. You need to\n",
        "know how to:\n",
        "*   Train, tune and use time series, sequence and prediction models.\n",
        "*   Train models to predict values for both univariate and multivariate time series.\n",
        "*   Prepare data for time series learning.\n",
        "*   Understand Mean Absolute Error (MAE) and how it can be used to evaluate accuracy of\n",
        "sequence models.\n",
        "*   Use RNNs and CNNs for time series, sequence and forecasting models.\n",
        "*   Identify when to use trailing versus centred windows.\n",
        "*   Use TensorFlow for forecasting.\n",
        "*   Prepare features and labels.\n",
        "*   Identify and compensate for sequence bias.\n",
        "*   Adjust the learning rate dynamically in time series, sequence and prediction models.\n"
      ],
      "metadata": {
        "id": "u8qp0U7XptvU"
      }
    },
    {
      "cell_type": "markdown",
      "source": [
        "https://www.tensorflow.org/static/extras/cert/TF_Certificate_Candidate_Handbook.pdf"
      ],
      "metadata": {
        "id": "I_ipdM9xtplV"
      }
    }
  ]
}